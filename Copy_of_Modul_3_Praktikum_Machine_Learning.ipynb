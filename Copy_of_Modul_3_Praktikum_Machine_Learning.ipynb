{
  "cells": [
    {
      "cell_type": "markdown",
      "metadata": {
        "id": "view-in-github",
        "colab_type": "text"
      },
      "source": [
        "<a href=\"https://colab.research.google.com/github/cassiejc/24-8-2023/blob/master/Copy_of_Modul_3_Praktikum_Machine_Learning.ipynb\" target=\"_parent\"><img src=\"https://colab.research.google.com/assets/colab-badge.svg\" alt=\"Open In Colab\"/></a>"
      ]
    },
    {
      "cell_type": "markdown",
      "metadata": {
        "id": "2ni2ZxEm5KHz"
      },
      "source": [
        "# **Unsupervised Learning**\n",
        "\n"
      ]
    },
    {
      "cell_type": "markdown",
      "metadata": {
        "id": "gmCl9xnEuNxf"
      },
      "source": [
        "# **Tujuan**\n",
        "* Praktikan mampu memahami konsep dasar dari unsupervised learning dan perbedaannya dengan supervised learning\n",
        "* Praktikan mampu melakukan clustering dengan K-Means dan Hierarchical Clustering\n",
        "* Praktikan mampu meneramkan dimensionality reduction dengan PCA"
      ]
    },
    {
      "cell_type": "markdown",
      "metadata": {
        "id": "aAcb5Uc_ytdD"
      },
      "source": [
        "# **Pengantar**\n",
        "\n",
        "Berbeda dengan supervised learning di modul sebelumnya, data pada unsupervised learning tidak memiliki label (unlabeled data). Algoritma unsupervised learning akan menemukan pola atau struktur dalam sebuah data sehingga data tersebut akan dikelompokkan berdasarkan jenis/tipe yang mirip. Karena tidak adanya label pada data, unsupervised learning lebih tidak akurat jika dibandingkan dengan supervised learning\n",
        "\n",
        "Terdapat 2 tipe unsupervised learning:\n",
        "1. Clustering: Memisahkan data ke dalam kelompok yang serupa berdasarkan karakteristik yang sama\n",
        "2. Dimensionality reduction: Mengurangi jumlah fitur dalam data dengan tetap mempertahankan informasi penting\n"
      ]
    },
    {
      "cell_type": "markdown",
      "metadata": {
        "id": "tvFfXpEhuSn-"
      },
      "source": [
        "# **Clustering**\n",
        "\n",
        "Clustering pada unlabeled data dapat dilakukan dengan modul `sklearn.cluster`\n",
        "\n",
        "Ada berbagai macam algoritma yang digunakan dalam Clustering. Berikut merupakan contoh clustering dengan algoritma yang bermacam-macam di scikit-learn.\n",
        "\n",
        "![cluster_outcome_algorithm.png](https://drive.google.com/uc?export=view&id=1E80myu0A0XeepF5S6vl-nUpNjBJzEU0Q)"
      ]
    },
    {
      "cell_type": "code",
      "source": [
        "# Supress Warnings\n",
        "import warnings\n",
        "warnings.filterwarnings('ignore')"
      ],
      "metadata": {
        "id": "j7v73ZMVnivv"
      },
      "execution_count": 1,
      "outputs": []
    },
    {
      "cell_type": "markdown",
      "metadata": {
        "id": "rEI1kzjYQBVT"
      },
      "source": [
        "##**Import Library dan Dataset**"
      ]
    },
    {
      "cell_type": "markdown",
      "source": [],
      "metadata": {
        "id": "fgB3sZyVYeQM"
      }
    },
    {
      "cell_type": "code",
      "execution_count": 2,
      "metadata": {
        "id": "IS6NIluOL2gW"
      },
      "outputs": [],
      "source": [
        "import numpy as np\n",
        "import pandas as pd\n",
        "import matplotlib.pyplot as plt"
      ]
    },
    {
      "cell_type": "markdown",
      "source": [
        "Pada modul ini, dataset yang digunakan adalah dataset mengenai customer mall. Dataset tersebut dapat di-download melalui link berikut\n",
        "\n",
        "[Mall_Customers.csv](https://drive.google.com/file/d/1_UYfw50xFZmiMa8qAePLDbmh4vY_nBln/view?usp=sharing)\n",
        "\n",
        "Dataset yang sudah di-download dapat di-upload langsung ke workspace Google Colab atau bisa di-upload ke google drive.\n",
        "\n",
        "File dataset menggunakan csv yang bisa dibaca dengan library pandas dan fungsi `read_csv('path_atau_nama_file')`"
      ],
      "metadata": {
        "id": "PyOod6ztQRqR"
      }
    },
    {
      "cell_type": "code",
      "execution_count": 4,
      "metadata": {
        "id": "ENBrgkMQLulW"
      },
      "outputs": [],
      "source": [
        "df1 = pd.read_csv('Mall_Customers.csv')"
      ]
    },
    {
      "cell_type": "markdown",
      "metadata": {
        "id": "PAIVG-GoO9l8"
      },
      "source": [
        "##**Eksplorasi Dataset**"
      ]
    },
    {
      "cell_type": "code",
      "execution_count": 5,
      "metadata": {
        "id": "-TnvyzJWMgfd",
        "colab": {
          "base_uri": "https://localhost:8080/",
          "height": 206
        },
        "outputId": "955c5707-57c2-4c0c-b2a2-76c243134a6e"
      },
      "outputs": [
        {
          "output_type": "execute_result",
          "data": {
            "text/plain": [
              "   CustomerID  Gender  Age  Annual Income (k$)  Spending Score (1-100)\n",
              "0           1    Male   19                  15                      39\n",
              "1           2    Male   21                  15                      81\n",
              "2           3  Female   20                  16                       6\n",
              "3           4  Female   23                  16                      77\n",
              "4           5  Female   31                  17                      40"
            ],
            "text/html": [
              "\n",
              "  <div id=\"df-36d37984-f636-41a9-b07d-32b7e6c402c8\" class=\"colab-df-container\">\n",
              "    <div>\n",
              "<style scoped>\n",
              "    .dataframe tbody tr th:only-of-type {\n",
              "        vertical-align: middle;\n",
              "    }\n",
              "\n",
              "    .dataframe tbody tr th {\n",
              "        vertical-align: top;\n",
              "    }\n",
              "\n",
              "    .dataframe thead th {\n",
              "        text-align: right;\n",
              "    }\n",
              "</style>\n",
              "<table border=\"1\" class=\"dataframe\">\n",
              "  <thead>\n",
              "    <tr style=\"text-align: right;\">\n",
              "      <th></th>\n",
              "      <th>CustomerID</th>\n",
              "      <th>Gender</th>\n",
              "      <th>Age</th>\n",
              "      <th>Annual Income (k$)</th>\n",
              "      <th>Spending Score (1-100)</th>\n",
              "    </tr>\n",
              "  </thead>\n",
              "  <tbody>\n",
              "    <tr>\n",
              "      <th>0</th>\n",
              "      <td>1</td>\n",
              "      <td>Male</td>\n",
              "      <td>19</td>\n",
              "      <td>15</td>\n",
              "      <td>39</td>\n",
              "    </tr>\n",
              "    <tr>\n",
              "      <th>1</th>\n",
              "      <td>2</td>\n",
              "      <td>Male</td>\n",
              "      <td>21</td>\n",
              "      <td>15</td>\n",
              "      <td>81</td>\n",
              "    </tr>\n",
              "    <tr>\n",
              "      <th>2</th>\n",
              "      <td>3</td>\n",
              "      <td>Female</td>\n",
              "      <td>20</td>\n",
              "      <td>16</td>\n",
              "      <td>6</td>\n",
              "    </tr>\n",
              "    <tr>\n",
              "      <th>3</th>\n",
              "      <td>4</td>\n",
              "      <td>Female</td>\n",
              "      <td>23</td>\n",
              "      <td>16</td>\n",
              "      <td>77</td>\n",
              "    </tr>\n",
              "    <tr>\n",
              "      <th>4</th>\n",
              "      <td>5</td>\n",
              "      <td>Female</td>\n",
              "      <td>31</td>\n",
              "      <td>17</td>\n",
              "      <td>40</td>\n",
              "    </tr>\n",
              "  </tbody>\n",
              "</table>\n",
              "</div>\n",
              "    <div class=\"colab-df-buttons\">\n",
              "\n",
              "  <div class=\"colab-df-container\">\n",
              "    <button class=\"colab-df-convert\" onclick=\"convertToInteractive('df-36d37984-f636-41a9-b07d-32b7e6c402c8')\"\n",
              "            title=\"Convert this dataframe to an interactive table.\"\n",
              "            style=\"display:none;\">\n",
              "\n",
              "  <svg xmlns=\"http://www.w3.org/2000/svg\" height=\"24px\" viewBox=\"0 -960 960 960\">\n",
              "    <path d=\"M120-120v-720h720v720H120Zm60-500h600v-160H180v160Zm220 220h160v-160H400v160Zm0 220h160v-160H400v160ZM180-400h160v-160H180v160Zm440 0h160v-160H620v160ZM180-180h160v-160H180v160Zm440 0h160v-160H620v160Z\"/>\n",
              "  </svg>\n",
              "    </button>\n",
              "\n",
              "  <style>\n",
              "    .colab-df-container {\n",
              "      display:flex;\n",
              "      gap: 12px;\n",
              "    }\n",
              "\n",
              "    .colab-df-convert {\n",
              "      background-color: #E8F0FE;\n",
              "      border: none;\n",
              "      border-radius: 50%;\n",
              "      cursor: pointer;\n",
              "      display: none;\n",
              "      fill: #1967D2;\n",
              "      height: 32px;\n",
              "      padding: 0 0 0 0;\n",
              "      width: 32px;\n",
              "    }\n",
              "\n",
              "    .colab-df-convert:hover {\n",
              "      background-color: #E2EBFA;\n",
              "      box-shadow: 0px 1px 2px rgba(60, 64, 67, 0.3), 0px 1px 3px 1px rgba(60, 64, 67, 0.15);\n",
              "      fill: #174EA6;\n",
              "    }\n",
              "\n",
              "    .colab-df-buttons div {\n",
              "      margin-bottom: 4px;\n",
              "    }\n",
              "\n",
              "    [theme=dark] .colab-df-convert {\n",
              "      background-color: #3B4455;\n",
              "      fill: #D2E3FC;\n",
              "    }\n",
              "\n",
              "    [theme=dark] .colab-df-convert:hover {\n",
              "      background-color: #434B5C;\n",
              "      box-shadow: 0px 1px 3px 1px rgba(0, 0, 0, 0.15);\n",
              "      filter: drop-shadow(0px 1px 2px rgba(0, 0, 0, 0.3));\n",
              "      fill: #FFFFFF;\n",
              "    }\n",
              "  </style>\n",
              "\n",
              "    <script>\n",
              "      const buttonEl =\n",
              "        document.querySelector('#df-36d37984-f636-41a9-b07d-32b7e6c402c8 button.colab-df-convert');\n",
              "      buttonEl.style.display =\n",
              "        google.colab.kernel.accessAllowed ? 'block' : 'none';\n",
              "\n",
              "      async function convertToInteractive(key) {\n",
              "        const element = document.querySelector('#df-36d37984-f636-41a9-b07d-32b7e6c402c8');\n",
              "        const dataTable =\n",
              "          await google.colab.kernel.invokeFunction('convertToInteractive',\n",
              "                                                    [key], {});\n",
              "        if (!dataTable) return;\n",
              "\n",
              "        const docLinkHtml = 'Like what you see? Visit the ' +\n",
              "          '<a target=\"_blank\" href=https://colab.research.google.com/notebooks/data_table.ipynb>data table notebook</a>'\n",
              "          + ' to learn more about interactive tables.';\n",
              "        element.innerHTML = '';\n",
              "        dataTable['output_type'] = 'display_data';\n",
              "        await google.colab.output.renderOutput(dataTable, element);\n",
              "        const docLink = document.createElement('div');\n",
              "        docLink.innerHTML = docLinkHtml;\n",
              "        element.appendChild(docLink);\n",
              "      }\n",
              "    </script>\n",
              "  </div>\n",
              "\n",
              "\n",
              "    <div id=\"df-9536d6b6-b8c1-41d6-acad-bb3bbebda106\">\n",
              "      <button class=\"colab-df-quickchart\" onclick=\"quickchart('df-9536d6b6-b8c1-41d6-acad-bb3bbebda106')\"\n",
              "                title=\"Suggest charts\"\n",
              "                style=\"display:none;\">\n",
              "\n",
              "<svg xmlns=\"http://www.w3.org/2000/svg\" height=\"24px\"viewBox=\"0 0 24 24\"\n",
              "     width=\"24px\">\n",
              "    <g>\n",
              "        <path d=\"M19 3H5c-1.1 0-2 .9-2 2v14c0 1.1.9 2 2 2h14c1.1 0 2-.9 2-2V5c0-1.1-.9-2-2-2zM9 17H7v-7h2v7zm4 0h-2V7h2v10zm4 0h-2v-4h2v4z\"/>\n",
              "    </g>\n",
              "</svg>\n",
              "      </button>\n",
              "\n",
              "<style>\n",
              "  .colab-df-quickchart {\n",
              "      --bg-color: #E8F0FE;\n",
              "      --fill-color: #1967D2;\n",
              "      --hover-bg-color: #E2EBFA;\n",
              "      --hover-fill-color: #174EA6;\n",
              "      --disabled-fill-color: #AAA;\n",
              "      --disabled-bg-color: #DDD;\n",
              "  }\n",
              "\n",
              "  [theme=dark] .colab-df-quickchart {\n",
              "      --bg-color: #3B4455;\n",
              "      --fill-color: #D2E3FC;\n",
              "      --hover-bg-color: #434B5C;\n",
              "      --hover-fill-color: #FFFFFF;\n",
              "      --disabled-bg-color: #3B4455;\n",
              "      --disabled-fill-color: #666;\n",
              "  }\n",
              "\n",
              "  .colab-df-quickchart {\n",
              "    background-color: var(--bg-color);\n",
              "    border: none;\n",
              "    border-radius: 50%;\n",
              "    cursor: pointer;\n",
              "    display: none;\n",
              "    fill: var(--fill-color);\n",
              "    height: 32px;\n",
              "    padding: 0;\n",
              "    width: 32px;\n",
              "  }\n",
              "\n",
              "  .colab-df-quickchart:hover {\n",
              "    background-color: var(--hover-bg-color);\n",
              "    box-shadow: 0 1px 2px rgba(60, 64, 67, 0.3), 0 1px 3px 1px rgba(60, 64, 67, 0.15);\n",
              "    fill: var(--button-hover-fill-color);\n",
              "  }\n",
              "\n",
              "  .colab-df-quickchart-complete:disabled,\n",
              "  .colab-df-quickchart-complete:disabled:hover {\n",
              "    background-color: var(--disabled-bg-color);\n",
              "    fill: var(--disabled-fill-color);\n",
              "    box-shadow: none;\n",
              "  }\n",
              "\n",
              "  .colab-df-spinner {\n",
              "    border: 2px solid var(--fill-color);\n",
              "    border-color: transparent;\n",
              "    border-bottom-color: var(--fill-color);\n",
              "    animation:\n",
              "      spin 1s steps(1) infinite;\n",
              "  }\n",
              "\n",
              "  @keyframes spin {\n",
              "    0% {\n",
              "      border-color: transparent;\n",
              "      border-bottom-color: var(--fill-color);\n",
              "      border-left-color: var(--fill-color);\n",
              "    }\n",
              "    20% {\n",
              "      border-color: transparent;\n",
              "      border-left-color: var(--fill-color);\n",
              "      border-top-color: var(--fill-color);\n",
              "    }\n",
              "    30% {\n",
              "      border-color: transparent;\n",
              "      border-left-color: var(--fill-color);\n",
              "      border-top-color: var(--fill-color);\n",
              "      border-right-color: var(--fill-color);\n",
              "    }\n",
              "    40% {\n",
              "      border-color: transparent;\n",
              "      border-right-color: var(--fill-color);\n",
              "      border-top-color: var(--fill-color);\n",
              "    }\n",
              "    60% {\n",
              "      border-color: transparent;\n",
              "      border-right-color: var(--fill-color);\n",
              "    }\n",
              "    80% {\n",
              "      border-color: transparent;\n",
              "      border-right-color: var(--fill-color);\n",
              "      border-bottom-color: var(--fill-color);\n",
              "    }\n",
              "    90% {\n",
              "      border-color: transparent;\n",
              "      border-bottom-color: var(--fill-color);\n",
              "    }\n",
              "  }\n",
              "</style>\n",
              "\n",
              "      <script>\n",
              "        async function quickchart(key) {\n",
              "          const quickchartButtonEl =\n",
              "            document.querySelector('#' + key + ' button');\n",
              "          quickchartButtonEl.disabled = true;  // To prevent multiple clicks.\n",
              "          quickchartButtonEl.classList.add('colab-df-spinner');\n",
              "          try {\n",
              "            const charts = await google.colab.kernel.invokeFunction(\n",
              "                'suggestCharts', [key], {});\n",
              "          } catch (error) {\n",
              "            console.error('Error during call to suggestCharts:', error);\n",
              "          }\n",
              "          quickchartButtonEl.classList.remove('colab-df-spinner');\n",
              "          quickchartButtonEl.classList.add('colab-df-quickchart-complete');\n",
              "        }\n",
              "        (() => {\n",
              "          let quickchartButtonEl =\n",
              "            document.querySelector('#df-9536d6b6-b8c1-41d6-acad-bb3bbebda106 button');\n",
              "          quickchartButtonEl.style.display =\n",
              "            google.colab.kernel.accessAllowed ? 'block' : 'none';\n",
              "        })();\n",
              "      </script>\n",
              "    </div>\n",
              "\n",
              "    </div>\n",
              "  </div>\n"
            ],
            "application/vnd.google.colaboratory.intrinsic+json": {
              "type": "dataframe",
              "variable_name": "df1",
              "summary": "{\n  \"name\": \"df1\",\n  \"rows\": 200,\n  \"fields\": [\n    {\n      \"column\": \"CustomerID\",\n      \"properties\": {\n        \"dtype\": \"number\",\n        \"std\": 57,\n        \"min\": 1,\n        \"max\": 200,\n        \"num_unique_values\": 200,\n        \"samples\": [\n          96,\n          16,\n          31\n        ],\n        \"semantic_type\": \"\",\n        \"description\": \"\"\n      }\n    },\n    {\n      \"column\": \"Gender\",\n      \"properties\": {\n        \"dtype\": \"category\",\n        \"num_unique_values\": 2,\n        \"samples\": [\n          \"Female\",\n          \"Male\"\n        ],\n        \"semantic_type\": \"\",\n        \"description\": \"\"\n      }\n    },\n    {\n      \"column\": \"Age\",\n      \"properties\": {\n        \"dtype\": \"number\",\n        \"std\": 13,\n        \"min\": 18,\n        \"max\": 70,\n        \"num_unique_values\": 51,\n        \"samples\": [\n          55,\n          26\n        ],\n        \"semantic_type\": \"\",\n        \"description\": \"\"\n      }\n    },\n    {\n      \"column\": \"Annual Income (k$)\",\n      \"properties\": {\n        \"dtype\": \"number\",\n        \"std\": 26,\n        \"min\": 15,\n        \"max\": 137,\n        \"num_unique_values\": 64,\n        \"samples\": [\n          87,\n          101\n        ],\n        \"semantic_type\": \"\",\n        \"description\": \"\"\n      }\n    },\n    {\n      \"column\": \"Spending Score (1-100)\",\n      \"properties\": {\n        \"dtype\": \"number\",\n        \"std\": 25,\n        \"min\": 1,\n        \"max\": 99,\n        \"num_unique_values\": 84,\n        \"samples\": [\n          83,\n          39\n        ],\n        \"semantic_type\": \"\",\n        \"description\": \"\"\n      }\n    }\n  ]\n}"
            }
          },
          "metadata": {},
          "execution_count": 5
        }
      ],
      "source": [
        "df1.head()"
      ]
    },
    {
      "cell_type": "code",
      "execution_count": 6,
      "metadata": {
        "id": "cyw0C-BZMljF",
        "colab": {
          "base_uri": "https://localhost:8080/"
        },
        "outputId": "303d1e7b-2c88-4c7e-e4f1-534a0c6d2e90"
      },
      "outputs": [
        {
          "output_type": "execute_result",
          "data": {
            "text/plain": [
              "(200, 5)"
            ]
          },
          "metadata": {},
          "execution_count": 6
        }
      ],
      "source": [
        "df1.shape"
      ]
    },
    {
      "cell_type": "code",
      "execution_count": 7,
      "metadata": {
        "id": "8-azdEjcMrB1",
        "colab": {
          "base_uri": "https://localhost:8080/"
        },
        "outputId": "dcc04eb9-e401-4fbf-e1b2-43404329ab0b"
      },
      "outputs": [
        {
          "output_type": "stream",
          "name": "stdout",
          "text": [
            "<class 'pandas.core.frame.DataFrame'>\n",
            "RangeIndex: 200 entries, 0 to 199\n",
            "Data columns (total 5 columns):\n",
            " #   Column                  Non-Null Count  Dtype \n",
            "---  ------                  --------------  ----- \n",
            " 0   CustomerID              200 non-null    int64 \n",
            " 1   Gender                  200 non-null    object\n",
            " 2   Age                     200 non-null    int64 \n",
            " 3   Annual Income (k$)      200 non-null    int64 \n",
            " 4   Spending Score (1-100)  200 non-null    int64 \n",
            "dtypes: int64(4), object(1)\n",
            "memory usage: 7.9+ KB\n"
          ]
        }
      ],
      "source": [
        "df1.info()"
      ]
    },
    {
      "cell_type": "code",
      "execution_count": 8,
      "metadata": {
        "id": "ET0UELdxMucd",
        "colab": {
          "base_uri": "https://localhost:8080/",
          "height": 240
        },
        "outputId": "67d2073a-4cd8-44c1-c6af-73c742948379"
      },
      "outputs": [
        {
          "output_type": "execute_result",
          "data": {
            "text/plain": [
              "CustomerID                0\n",
              "Gender                    0\n",
              "Age                       0\n",
              "Annual Income (k$)        0\n",
              "Spending Score (1-100)    0\n",
              "dtype: int64"
            ],
            "text/html": [
              "<div>\n",
              "<style scoped>\n",
              "    .dataframe tbody tr th:only-of-type {\n",
              "        vertical-align: middle;\n",
              "    }\n",
              "\n",
              "    .dataframe tbody tr th {\n",
              "        vertical-align: top;\n",
              "    }\n",
              "\n",
              "    .dataframe thead th {\n",
              "        text-align: right;\n",
              "    }\n",
              "</style>\n",
              "<table border=\"1\" class=\"dataframe\">\n",
              "  <thead>\n",
              "    <tr style=\"text-align: right;\">\n",
              "      <th></th>\n",
              "      <th>0</th>\n",
              "    </tr>\n",
              "  </thead>\n",
              "  <tbody>\n",
              "    <tr>\n",
              "      <th>CustomerID</th>\n",
              "      <td>0</td>\n",
              "    </tr>\n",
              "    <tr>\n",
              "      <th>Gender</th>\n",
              "      <td>0</td>\n",
              "    </tr>\n",
              "    <tr>\n",
              "      <th>Age</th>\n",
              "      <td>0</td>\n",
              "    </tr>\n",
              "    <tr>\n",
              "      <th>Annual Income (k$)</th>\n",
              "      <td>0</td>\n",
              "    </tr>\n",
              "    <tr>\n",
              "      <th>Spending Score (1-100)</th>\n",
              "      <td>0</td>\n",
              "    </tr>\n",
              "  </tbody>\n",
              "</table>\n",
              "</div><br><label><b>dtype:</b> int64</label>"
            ]
          },
          "metadata": {},
          "execution_count": 8
        }
      ],
      "source": [
        "df1.isna().sum()"
      ]
    },
    {
      "cell_type": "markdown",
      "metadata": {
        "id": "iW5abqNGNBid"
      },
      "source": [
        "Dari eksplorasi dataset tadi, didapat ada 1 categorical features, yaitu gender dan 3 numerical features, yaitu age, annual income, dan spending score. Algoritma clustering pada dasarnya dirancang untuk bekerja dengan data numerik, tetapi categorical features juga bisa diolah hanya saja features tersebut harus ditransformasi menjadi bentuk angka biner atau angka yang melambangkan kategori yang ada. Misalnya, dalam kolom gender, female bisa ditransformasi menjadi 0 dan male menjadi 1\n",
        "\n",
        "Namun, pada modul ini, kita akan fokus pada numerical features, sehingga kita akan drop kolom Gender dan CostumerID."
      ]
    },
    {
      "cell_type": "code",
      "execution_count": null,
      "metadata": {
        "id": "FBbmHX_oPNgE"
      },
      "outputs": [],
      "source": [
        "df1.drop([FIXME,FIXME], axis='columns', inplace=True)"
      ]
    },
    {
      "cell_type": "markdown",
      "source": [
        "Dataframe setelah kedua kolom tersebut di-drop"
      ],
      "metadata": {
        "id": "E4reDATRRMxS"
      }
    },
    {
      "cell_type": "code",
      "execution_count": null,
      "metadata": {
        "id": "lcXG3IjaP76M"
      },
      "outputs": [],
      "source": [
        "df1.head()"
      ]
    },
    {
      "cell_type": "markdown",
      "metadata": {
        "id": "tvoqXu3jQgg-"
      },
      "source": [
        "##**K-Means**\n",
        "\n",
        "K-means clustering adalah pendekatan untuk membagi satu dataset menjadi K-clusters yang berbeda. K-Means merupakan centroid-based algorithm dan distance-based algorithm dimana kita menghitung jarak untuk menempatkan sebuah poin ke sebuah cluster\n",
        "\n",
        "![cluster_outcome_algorithm.png](https://drive.google.com/uc?export=view&id=1iFjjUzKZNrX31a-MaelxNURSG7NvfRkP)\n",
        "\n",
        "Cara kerja algoritma K-Means:\n",
        "1. Mencari nilai k, yang bisa didapat dengan dua cara, yaitu Elbow Method atau Shillouette Score Method\n",
        "2. k titik dipilih secara acak dari data sebagai centroid awal untuk setiap cluster\n",
        "3. Setiap data kemudian ditempatkan ke dalam cluster yang memiliki centroid terdekat\n",
        "4. Setelah semua data telah diatribusikan ke cluster, posisi centroid diperbarui dengan menghitung rata-rata dari semua data dalam setiap cluster\n",
        "5. Langkah 3 dan 4 diulangi sampai tidak ada perubahan dalam penempatan cluster atau posisi centroid. Ini menandakan bahwa algoritma telah mencapai local optimum\n"
      ]
    },
    {
      "cell_type": "markdown",
      "metadata": {
        "id": "EhuLZI-nQc_b"
      },
      "source": [
        "###**Mencari Nilai k dengan Elbow Method dan Silhouette Score Method**\n",
        "\n",
        "Nilai k dapat dicari dengan **Elbow Method** atau **Shillouette Score Method**.\n",
        "\n",
        "**Elbow Method** merupakan plotting dari sum of squared error yang terjadi di dalam cluster untuk berbagai nilai k. Jika plot ini menyerupai lengan dengan siku (elbow), maka nilai k yang menyerupai siku tersebut dipilih.\n",
        "\n",
        "**Silhouette Score Method** mengevaluasi kualitas cluster berdasarkan seberapa baik data poin dikelompokkan dengan data poin lain yang mirip satu sama lain. Skor ini dihitung menggunakan formula jarak antar data poin dan nilai k dengan skor tertinggi dipilih untuk pemodelan."
      ]
    },
    {
      "cell_type": "markdown",
      "metadata": {
        "id": "C889BxAeT9Mw"
      },
      "source": [
        "Karena fitur yang tersisa ada 3, maka kita akan mendapatkan 3 kombinasi pasangan fitur untuk dilakukan clustering, yaitu\n",
        "1. Age dan Annual Income\n",
        "2. Age dan Spending Score\n",
        "3. Annual Income dan Spending Score"
      ]
    },
    {
      "cell_type": "markdown",
      "metadata": {
        "id": "EHicmzoOUNBI"
      },
      "source": [
        "###**Age dan Annual Income**"
      ]
    },
    {
      "cell_type": "markdown",
      "source": [
        "Membuat dataframe baru yang terdiri dari kolom age dan annual income. Sesuaikan nama kolomnya dengan nama kolom dataset"
      ],
      "metadata": {
        "id": "YqRYVcYMR2c4"
      }
    },
    {
      "cell_type": "code",
      "execution_count": null,
      "metadata": {
        "id": "b3X3fptSTvCp"
      },
      "outputs": [],
      "source": [
        "age_ann = df1[[FIXME,FIXME]]"
      ]
    },
    {
      "cell_type": "markdown",
      "source": [
        "Mencari nilai k dengan elbow method dan silhouette score"
      ],
      "metadata": {
        "id": "Dt8IBSK1SJVH"
      }
    },
    {
      "cell_type": "code",
      "execution_count": null,
      "metadata": {
        "id": "1I8jv-IPU36g"
      },
      "outputs": [],
      "source": [
        "#import library KMeans dan silhouette score\n",
        "from sklearn.cluster import KMeans\n",
        "from sklearn.metrics import silhouette_score\n",
        "\n",
        "#untuk menyimpan nilai sum square error dan silhouette score\n",
        "elbow_age_ann = []\n",
        "sil_score_age_ann = []\n",
        "fig, axs = plt.subplots(1, 2, figsize=(20, 5))\n",
        "\n",
        "#Elbow method\n",
        "for i in range(1,11):\n",
        "    '''\n",
        "    Fungsi KMeans digunakan untuk membuat model clustering dengan menentukan\n",
        "    jumlah cluster (n_clusters), metode inisialisasi centroid (init),\n",
        "    dan parameter acak (random_state). Setelah model dibuat, model perlu\n",
        "    disesuaikan/dilatih dengan dataset menggunakan fungsi `fit(data)`.\n",
        "    Kemudian simpan nilai total sum of squared errors (SSE) menggunakan `inertia_`\n",
        "    ke dalam array\n",
        "    '''\n",
        "    kmeans = FIXME(n_clusters = i, init = 'k-means++', random_state = 0)\n",
        "    kmeans.FIXME(FIXME)\n",
        "    elbow_age_ann.append(kmeans.FIXME)\n",
        "\n",
        "#Tampilkan grafik\n",
        "plt.subplot(1,2,1)\n",
        "#Tampilkan nilai inertia_ (SSE) yang disimpan di elbow_age_ann\n",
        "plt.plot(range(1,11), FIXME)\n",
        "plt.title('The Elbow Method')\n",
        "plt.xlabel('k : no of clusters')\n",
        "plt.ylabel('sum of squared error')\n",
        "\n",
        "#Silhouette score\n",
        "for i in range(2, 11):\n",
        "    '''\n",
        "    Seperti pada langkah sebelumnya, buat model KMeans dan latih (fit) model\n",
        "    tersebut pada data age_ann. Setelah proses fitting selesai, panggil atribut\n",
        "    labels_ untuk mendapatkan label cluster yang diberikan pada setiap data\n",
        "    point. Label ini menunjukkan cluster mana yang dimiliki oleh masing-masing\n",
        "    data. Kemudian, fungsi silhouette_score() digunakan untuk menghitung\n",
        "    Silhouette Score, yang memerlukan dua parameter, yaitu data dan label.\n",
        "    Setelah menghitung Silhouette Score, simpan nilai tersebut ke dalam array\n",
        "    sil_score_age_ann.\n",
        "    '''\n",
        "    kmeans = FIXME(n_clusters=i, init='k-means++', random_state=0)\n",
        "    kmeans.FIXME(FIXME)\n",
        "    labels = kmeans.FIXME\n",
        "    silhouette_avg = silhouette_score(FIXME, FIXME)\n",
        "    sil_score_age_ann.append(FIXME)\n",
        "\n",
        "plt.subplot(1,2,2)\n",
        "#Tampilkan nilai silhouette score yang disimpan di sil_score_age_ann\n",
        "plt.plot(range(2,11), FIXME)\n",
        "plt.title('Silhouette Score Method')\n",
        "plt.xlabel('k : no of clusters')\n",
        "plt.ylabel('Silhouette Score')\n",
        "plt.show()"
      ]
    },
    {
      "cell_type": "markdown",
      "metadata": {
        "id": "XXj6Jewta8Ps"
      },
      "source": [
        "Pada elbow method dapat dilihat pada k = 4 grafik terlihat seperti siku, lalu pada silhouette score method nilai tertinggi adalah k = 4. Oleh karena itu, berdasarkan kedua method tersebut, kita memilih k = 4"
      ]
    },
    {
      "cell_type": "code",
      "execution_count": null,
      "metadata": {
        "id": "iBnS-o_0bd57"
      },
      "outputs": [],
      "source": [
        "'''\n",
        "n_clusters merupakan nilai k yang didapat dari elbow dan shillouette score method.\n",
        "Fungsi fit_predict merupakan metode dalam KMeans yang menggabungkan fit dan predict\n",
        "dimana fit merupakan metode model mempelajari data dan menentukan posisi centroid\n",
        "cluster dan predict menetapkan label cluster untuk setiap data point dalam dataset.\n",
        "Model yang telah dibuat akan digunakan untuk melakukan fitting dan prediksi\n",
        "data sekaligus. Kemudian koordinat centroid untuk setiap cluster settelah model\n",
        "dilatih dapat diakses di atribut cluster_centers_.\n",
        "'''\n",
        "KM_age_ann = KMeans(n_clusters= FIXME, init='k-means++', random_state=0)\n",
        "KM_age_ann_labels = FIXME.fit_predict(FIXME)\n",
        "KM_age_ann_centroids = FIXME.cluster_centers_"
      ]
    },
    {
      "cell_type": "markdown",
      "source": [
        "Melakukan plotting hasil clustering"
      ],
      "metadata": {
        "id": "PPInP0pBSbSf"
      }
    },
    {
      "cell_type": "code",
      "execution_count": null,
      "metadata": {
        "id": "mJK9YbrKijen"
      },
      "outputs": [],
      "source": [
        "#Plot centroid\n",
        "plt.scatter(KM_age_ann_centroids[:,0], KM_age_ann_centroids[:,1], marker=\"X\", color='black')\n",
        "#Plot clustering\n",
        "scatter = plt.scatter(x='Age', y='Annual Income (k$)', c=KM_age_ann_labels, cmap='Spectral', data=age_ann)\n",
        "#Menambahkan legend\n",
        "plt.legend(handles=scatter.legend_elements()[0], labels=['Cluster 0', 'Cluster 1', 'Cluster 2', 'Cluster 3'])\n",
        "plt.title('Clusters of Customers')\n",
        "plt.xlabel('Age')\n",
        "plt.ylabel('Annual Income (k$)')\n",
        "plt.show()"
      ]
    },
    {
      "cell_type": "markdown",
      "source": [
        "Menghitung jumlah data di setiap cluster"
      ],
      "metadata": {
        "id": "WxrnNvzTSgL_"
      }
    },
    {
      "cell_type": "code",
      "source": [
        "age_ann_copy = age_ann.copy()\n",
        "age_ann_copy.loc[:, 'Cluster'] = KM_age_ann_labels\n",
        "km_age_ann_sz = age_ann_copy.groupby('Cluster').size().to_frame().rename(columns = {0:'KM_size'})\n",
        "km_age_ann_sz"
      ],
      "metadata": {
        "id": "ww75S3_Bulj6"
      },
      "execution_count": null,
      "outputs": []
    },
    {
      "cell_type": "markdown",
      "metadata": {
        "id": "VNuh1t9Y0Cak"
      },
      "source": [
        "###**Age dan Spending Score**"
      ]
    },
    {
      "cell_type": "markdown",
      "source": [
        "Membuat dataframe baru yang terdiri dari kolom age dan spending score. Sesuaikan nama kolomnya dengan nama kolom dataset"
      ],
      "metadata": {
        "id": "GFJ1wB-4SBW_"
      }
    },
    {
      "cell_type": "code",
      "execution_count": null,
      "metadata": {
        "id": "LVM4Jz311Hn7"
      },
      "outputs": [],
      "source": [
        "age_spend = df1[[FIXME,FIXME]]"
      ]
    },
    {
      "cell_type": "markdown",
      "source": [
        "Mencari nilai k dengan elbow method dan silhouette score"
      ],
      "metadata": {
        "id": "IkOTU71FUOCe"
      }
    },
    {
      "cell_type": "code",
      "execution_count": null,
      "metadata": {
        "id": "TTQSA0yZ20zJ"
      },
      "outputs": [],
      "source": [
        "#untuk menyimpan nilai sum square error dan silhouette score\n",
        "elbow_age_spend = []\n",
        "sil_score_age_spend = []\n",
        "fig, axs = plt.subplots(1, 2, figsize=(20, 5))\n",
        "\n",
        "#Elbow method\n",
        "for i in range(1,11):\n",
        "    '''\n",
        "    Sama seperti tahapan sebelumnya dengan data yang berbeda\n",
        "    '''\n",
        "    kmeans = FIXME(n_clusters = i, init = 'k-means++', random_state = 0)\n",
        "    kmeans.FIXME(FIXME)\n",
        "    elbow_age_spend.append(kmeans.FIXME)\n",
        "\n",
        "plt.subplot(1,2,1)\n",
        "#Tampilkan nilai inertia_ (SSE) yang disimpan di elbow_age_spend\n",
        "plt.plot(range(1,11), FIXME)\n",
        "plt.title('The Elbow Method')\n",
        "plt.xlabel('k : no of clusters')\n",
        "plt.ylabel('sum of squared error')\n",
        "\n",
        "#Silhouette score\n",
        "for i in range(2, 11):\n",
        "    '''\n",
        "    Sama seperti tahapan sebelumnya dengan data yang berbeda\n",
        "    '''\n",
        "    kmeans = FIXME(n_clusters=i, init='k-means++', random_state=0)\n",
        "    kmeans.FIXME(FIXME)\n",
        "    labels = kmeans.FIXME\n",
        "    silhouette_avg = silhouette_score(FIXME, FIXME)\n",
        "    sil_score_age_spend.append(FIXME)\n",
        "\n",
        "plt.subplot(1,2,2)\n",
        "#Tampilkan nilai silhouette score yang disimpan di sil_score_age_spend\n",
        "plt.plot(range(2,11), FIXME)\n",
        "plt.title('Silhouette Score Method')\n",
        "plt.xlabel('k : no of clusters')\n",
        "plt.ylabel('Silhouette Score')\n",
        "plt.show()"
      ]
    },
    {
      "cell_type": "markdown",
      "source": [
        "Pada elbow method dapat dilihat pada k = 4 grafik terlihat seperti siku, lalu pada silhouette score method nilai tertinggi adalah k = 4. Oleh karena itu, berdasarkan kedua method tersebut, kita memilih k = 4"
      ],
      "metadata": {
        "id": "SOSzWRkJUSS2"
      }
    },
    {
      "cell_type": "code",
      "execution_count": null,
      "metadata": {
        "id": "m-LVWfhC3dOJ"
      },
      "outputs": [],
      "source": [
        "'''\n",
        "Sama seperti tahapan sebelumnya dengan data yang berbeda\n",
        "'''\n",
        "KM_age_spend = KMeans(n_clusters= FIXME, init='k-means++', random_state=0)\n",
        "KM_age_spend_labels = FIXME.fit_predict(FIXME)\n",
        "KM_age_spend_centroids = FIXME.cluster_centers_"
      ]
    },
    {
      "cell_type": "markdown",
      "source": [
        "Melakukan plotting hasil clustering"
      ],
      "metadata": {
        "id": "KLgSUZElUUd-"
      }
    },
    {
      "cell_type": "code",
      "execution_count": null,
      "metadata": {
        "id": "iiqOe7aw3mfx"
      },
      "outputs": [],
      "source": [
        "#Plot centroid\n",
        "plt.scatter(KM_age_spend_centroids[:,0], KM_age_spend_centroids[:,1], marker=\"X\", color='black')\n",
        "#Plot clustering\n",
        "scatter = plt.scatter(x='Age', y='Spending Score (1-100)', c=KM_age_spend_labels, cmap='Spectral', data=age_spend)\n",
        "#Menambahkan legend\n",
        "plt.legend(handles=scatter.legend_elements()[0], labels=['Cluster 0', 'Cluster 1', 'Cluster 2', 'Cluster 3'])\n",
        "plt.title('Clusters of Customers')\n",
        "plt.xlabel('Age')\n",
        "plt.ylabel('Spending Score (1-100)')\n",
        "plt.show()"
      ]
    },
    {
      "cell_type": "markdown",
      "source": [
        "Menghitung jumlah data di setiap cluster"
      ],
      "metadata": {
        "id": "tDwZ6HqNUsW_"
      }
    },
    {
      "cell_type": "code",
      "source": [
        "age_spend_copy = age_spend.copy()\n",
        "age_spend_copy.loc[:, 'Cluster'] = KM_age_spend_labels\n",
        "km_age_spend_sz = age_spend_copy.groupby('Cluster').size().to_frame().rename(columns = {0:'KM_size'})\n",
        "km_age_spend_sz"
      ],
      "metadata": {
        "id": "FiJea6KWucjq"
      },
      "execution_count": null,
      "outputs": []
    },
    {
      "cell_type": "markdown",
      "metadata": {
        "id": "WjPNn1oh0Fwk"
      },
      "source": [
        "###**Annual Income dan Spending Score**"
      ]
    },
    {
      "cell_type": "markdown",
      "source": [
        "Membuat dataframe baru yang terdiri dari kolom annual income dan spending score"
      ],
      "metadata": {
        "id": "-bV3QmiQSE83"
      }
    },
    {
      "cell_type": "code",
      "execution_count": null,
      "metadata": {
        "id": "dgqH68VG237J"
      },
      "outputs": [],
      "source": [
        "ann_spend = df1[[FIXME,FIXME]]"
      ]
    },
    {
      "cell_type": "markdown",
      "source": [
        "Mencari nilai k dengan elbow method dan silhouette score"
      ],
      "metadata": {
        "id": "ZTEgVJL9UuPW"
      }
    },
    {
      "cell_type": "code",
      "execution_count": null,
      "metadata": {
        "id": "nPya_BJO2_yh"
      },
      "outputs": [],
      "source": [
        "#untuk menyimpan nilai sum square error dan silhouette score\n",
        "elbow_ann_spend = []\n",
        "sil_score_ann_spend = []\n",
        "fig, axs = plt.subplots(1, 2, figsize=(20, 5))\n",
        "\n",
        "#Elbow method\n",
        "for i in range(1,11):\n",
        "    '''\n",
        "    Sama seperti tahapan sebelumnya dengan data yang berbeda\n",
        "    '''\n",
        "    kmeans = FIXME(n_clusters = i, init = 'k-means++', random_state = 0)\n",
        "    kmeans.FIXME(FIXME)\n",
        "    elbow_ann_spend.append(kmeans.FIXME)\n",
        "\n",
        "plt.subplot(1,2,1)\n",
        "#Tampilkan nilai inertia_ (SSE) yang disimpan di elbow_ann_spend\n",
        "plt.plot(range(1,11), FIXME)\n",
        "plt.title('The Elbow Method')\n",
        "plt.xlabel('k : no of clusters')\n",
        "plt.ylabel('sum of squared error')\n",
        "\n",
        "#Silhouette score\n",
        "for i in range(2, 11):\n",
        "    '''\n",
        "    Sama seperti tahapan sebelumnya dengan data yang berbeda\n",
        "    '''\n",
        "    kmeans = FIXME(n_clusters=i, init='k-means++', random_state=0)\n",
        "    kmeans.FIXME(FIXME)\n",
        "    labels = kmeans.FIXME\n",
        "    silhouette_avg = silhouette_score(FIXME, FIXME)\n",
        "    sil_score_ann_spend.append(FIXME)\n",
        "\n",
        "plt.subplot(1,2,2)\n",
        "#Tampilkan nilai silhouette score yang disimpan di sil_score_ann_spend\n",
        "plt.plot(range(2,11), FIXME)\n",
        "plt.title('Silhouette Score Method')\n",
        "plt.xlabel('k : no of clusters')\n",
        "plt.ylabel('Silhouette Score')\n",
        "plt.show()"
      ]
    },
    {
      "cell_type": "markdown",
      "source": [
        "Pada elbow method dapat dilihat pada k = 5 grafik terlihat seperti siku, lalu pada silhouette score method nilai tertinggi adalah k = 5. Oleh karena itu, berdasarkan kedua method tersebut, kita memilih k = 5"
      ],
      "metadata": {
        "id": "QDybsYf9Uw0V"
      }
    },
    {
      "cell_type": "code",
      "execution_count": null,
      "metadata": {
        "id": "DyUlMywu-g2L"
      },
      "outputs": [],
      "source": [
        "'''\n",
        "Sama seperti tahapan sebelumnya dengan data yang berbeda\n",
        "'''\n",
        "KM_ann_spend = KMeans(n_clusters= FIXME, init='k-means++', random_state=0)\n",
        "KM_ann_spend_labels = FIXME.fit_predict(FIXME)\n",
        "KM_ann_spend_centroids = FIXME.cluster_centers_"
      ]
    },
    {
      "cell_type": "markdown",
      "source": [
        "Melakukan plotting hasil clustering"
      ],
      "metadata": {
        "id": "rxF_TGV0U0oV"
      }
    },
    {
      "cell_type": "code",
      "execution_count": null,
      "metadata": {
        "id": "nok7fObl-i1S"
      },
      "outputs": [],
      "source": [
        "#Plot centroid\n",
        "plt.scatter(KM_ann_spend_centroids[:,0], KM_ann_spend_centroids[:,1], marker=\"X\", color='black')\n",
        "#Plot clustering\n",
        "scatter = plt.scatter(x='Annual Income (k$)', y='Spending Score (1-100)', c=KM_ann_spend_labels, cmap='Spectral', data=ann_spend)\n",
        "#Menambahkan legend\n",
        "plt.legend(handles=scatter.legend_elements()[0], labels=['Cluster 0', 'Cluster 1', 'Cluster 2', 'Cluster 3', 'Cluster 4'])\n",
        "plt.title('Clusters of Customers')\n",
        "plt.xlabel('Annual Income (k$)')\n",
        "plt.ylabel('Spending Score (1-100)')\n",
        "plt.show()"
      ]
    },
    {
      "cell_type": "markdown",
      "source": [
        "Menghitung jumlah data di setiap cluster"
      ],
      "metadata": {
        "id": "FGykQ3qqU6m9"
      }
    },
    {
      "cell_type": "code",
      "execution_count": null,
      "metadata": {
        "id": "e-Wlc3BnHq5K"
      },
      "outputs": [],
      "source": [
        "ann_spend_copy = ann_spend.copy()\n",
        "ann_spend_copy.loc[:, 'Cluster'] = KM_ann_spend_labels\n",
        "km_ann_spend_sz = ann_spend_copy.groupby('Cluster').size().to_frame().rename(columns = {0:'KM_size'})\n",
        "km_ann_spend_sz"
      ]
    },
    {
      "cell_type": "markdown",
      "metadata": {
        "id": "wzivVvNAGbJE"
      },
      "source": [
        "Dari ketiga plot di atas, plot antara spending score dan annual income dengan umur customer tidak memiliki cluster yang pasti dan cenderung homogen, sedangkan plot antara annual income dan spending score dapat disimpulkan sebagai 5 cluster, yaitu:\n",
        "1. Customers dengan low annual income and high spending score\n",
        "2. Customers dengan medium annual income and medium spending score\n",
        "3. Customers dengan high annual income and low spending score\n",
        "4. Customers dengan high annual income and high spending score\n",
        "5. Customers dengan low annual income and low spending score"
      ]
    },
    {
      "cell_type": "markdown",
      "metadata": {
        "id": "fql-XNXIJbD4"
      },
      "source": [
        "Dapat dilihat dari tabel, cluster terbanyak adalah cluster 1, yaitu customers dengan medium annual income and medium spending score\n"
      ]
    },
    {
      "cell_type": "markdown",
      "metadata": {
        "id": "LWNQYQKwDphk"
      },
      "source": [
        "#**Dimensionality Reduction**\n",
        "\n",
        "Dimensionality reduction merupakan sebuah teknik untuk mengurangi jumlah fitur dalam dataset dengan tetap mempertahankan infomrasi penting yang ada. Dengan kata lain, dimensionality reduction mengubah data dengan dimensi yang besar ke dimensi yang lebih kecil dengan tetap mempertahakan esensi dari data asli. Data dengan dimensi besar yang dimaksud adalah data dengan jumlah fitur yang banyak.\n",
        "\n",
        "Curse of dimensionality merupakan masalah yang umum ditemui dalam machine learning, dimana performa model memburuk seiring bertambanya fitur. Hal ini terjadi karena kompleksitas model meningkat seriring dengan jumlah fitur. Selain itu, data dengan dimensi yang besa juga dapat menyebabkan overfitting, yaitu model terlalu fit ke data training dan tidak generalize ke data baru\n",
        "\n",
        "Dimensionality reduction dapat membantu mengatasi masalah ini dengan mengurangi kompleksitas dari model dan meningkatkan performanya\n",
        "\n",
        "Beberapa metode yang digunakan dalam dimensionality reduction, yaitu:\n",
        "1. Principal Component Analysis (PCA)\n",
        "2. Linear Discriminant Analysis (LDA)\n",
        "3. Generalized Discriminant Analysis (GDA)\n",
        "\n",
        "Pada modul ini, kita akan membahas PCA"
      ]
    },
    {
      "cell_type": "markdown",
      "source": [
        "###**Principal Component Analysis (PCA)**\n",
        "PCA mencoba mencari transformasi yang paling optimal sehingga varians data di ruang dimensi yang lebih rendah dapat dipertahankan sebanyak mungkin\n",
        "\n",
        "Tahapan di PCA:\n",
        "1. Membuat matriks kovariansi dari data\n",
        "2. Menghitung vektor-vektor eigen dari matriks tersebut\n",
        "3. Vektor-vektor eigen yang sesuai dengan nilai eigen terbesar digunakan untuk merekonstruksi sebagian besar varians data asli\n",
        "\n",
        "Dengan demikian, kita hanya memiliki sedikit vektor eigen, dan mungkin tetap ada data yang hilang dalam proses tersebut. Namun, varians yang paling penting seharusnya tetap ada karena vektor eigen yang tersisa\n",
        "\n",
        "Kita akan mengimport library yang dibutuhkan"
      ],
      "metadata": {
        "id": "Qg9FVdz0ktiI"
      }
    },
    {
      "cell_type": "code",
      "source": [
        "from sklearn.decomposition import PCA"
      ],
      "metadata": {
        "id": "f39s2uYqJkSA"
      },
      "execution_count": null,
      "outputs": []
    },
    {
      "cell_type": "markdown",
      "source": [
        "Dataset yang digunakan tetap sama. yaitu `Mall_Customers.csv`. Oleh karena itu, kita akan meng-copy df1 yang telah dihilangkan categorical featuresnya"
      ],
      "metadata": {
        "id": "y9RapFPQJF8I"
      }
    },
    {
      "cell_type": "code",
      "source": [
        "df2 = df1.copy(deep = True)\n",
        "df2.head()"
      ],
      "metadata": {
        "id": "pD0UjIR3zf1U"
      },
      "execution_count": null,
      "outputs": []
    },
    {
      "cell_type": "markdown",
      "source": [
        "PCA membutuhkan input `n_components`. Dalam kasus ini, kita akan menggunakan `n_components = 2` agar hasil PCA dapat divisualisasikan dengan mudah dalam bidang dua dimensi. Dengan mengurangi dimensi data menjadi dua, kita dapat memplot hasil PCA dalam bentuk scatter plot di mana sumbu x dan y mewakili dua principal components yang paling signifikan\n",
        "\n",
        "Setelah n_components ditentukan, kita akn menggunakan metode `fit_transform` untuk menghitung komponen-komponen utama dari data dan mengurangi dimensi data menjadi jumlah komponen utama yang diinginkan"
      ],
      "metadata": {
        "id": "Ro1oypgwMYAd"
      }
    },
    {
      "cell_type": "code",
      "source": [
        "#fitur yang akan digunakan\n",
        "features = ['Age', 'Annual Income (k$)', 'Spending Score (1-100)']\n",
        "#PCA\n",
        "pca = PCA(n_components=FIXME)\n",
        "pca_features = pca.FIXME(df2[FIXME])\n",
        "\n",
        "df_pca = pd.DataFrame(data=pca_features, columns=['PC1', 'PC2'])"
      ],
      "metadata": {
        "id": "0MkIPmnT6-vt"
      },
      "execution_count": null,
      "outputs": []
    },
    {
      "cell_type": "markdown",
      "source": [
        "Setelah dilakukan PCA pada data, kita akan melakukan clustering. Sebelumnya, kita menggunakan algoritma K-Means untuk pengelompokan. Kali ini, kita akan mencoba menggunakan hierarchical clustering"
      ],
      "metadata": {
        "id": "qtQXmw1lNd0U"
      }
    },
    {
      "cell_type": "markdown",
      "source": [
        "##**Hierarchical Clustering**\n",
        "\n",
        "Hierarchial clustering merupakan algoritma pengelompokkan data yang dilakukan dengan membuat suatu bagain hirartki (dendogram) dengan tujuan menunjukkan kemiripan antar data. Hierarchial clustering terbagi menjadi dua jenis, yaitu\n",
        "1. Agglomerative clustering: Pengelompokkan datanya menggunakan bottom-up manner, yaitu dimulai dengan menganggap setiap data sebagai suatu cluster kecil (leaf) yang hanya memiliki satu anggota saja, lalu pada tahap selanjutnya dua cluster yang memiliki kemiripan akan dikelompokkan menjadi satu cluster yang lebih besar (nodes). Proses ini akan dilakukan terus menerus hingga semua data menjadi satu cluster besar (root)\n",
        "2. Divisive hierarchical clustering: Pengelompokkan datanya menggunakan top-down manner, yaitu dimulai dengan menganggap satu set data sebagai satu cluster besar (root), lalu dalam setiap iterasinya setiap data yang memiliki karakteristik yang berbeda akan dipecah menjadi dua cluster yang lebih kecil (nodes) dan proses akan terus berjalan hingga setiap data menjadi satu cluster kecil (leaf) yang hanya memiliki satu anggota saja"
      ],
      "metadata": {
        "id": "e4g_SUBmOIqz"
      }
    },
    {
      "cell_type": "code",
      "source": [
        "import scipy.cluster.hierarchy as shc\n",
        "from sklearn.cluster import AgglomerativeClustering"
      ],
      "metadata": {
        "id": "33aW5Ra0-erD"
      },
      "execution_count": null,
      "outputs": []
    },
    {
      "cell_type": "markdown",
      "source": [
        "**Mencari Jumlah Cluster dengan Dendogram**\n",
        "\n",
        "Dendogram merupakan diagram yang menunjukkan struktur hirarki dari pengelompokkan data. Dalam dendrogram, setiap titik data diwakili oleh garis horizontal, dan hubungan antar titik data direpresentasikan oleh cabang vertikal. Cabang vertikal tersebut beragam panjangnya, menunjukkan tingkat kedekatan antar data. Jarak atau tingkat kedekatan ini sering kali diukur dengan metrik tertentu, seperti jarak Euclidean atau metrik lainnya\n",
        "\n",
        "\n",
        "![dendogram.png](https://drive.google.com/uc?export=view&id=1jmt6zDQLWIsQi-J2aDe44eq_qQDsYona)\n",
        "\n",
        "Semakin panjang garis antar data maka semakin berbeda antar data/cluster tersebut, dan semakin pendek garis antar data maka semakin mirip antar data/cluster tersebut. Cluster dapat dihasilkan dengan memotong bagan hirarki pada level tertentu. Pemotongan ini biasanya dilakukan pada tingkat di mana garis vertikal sangat panjang, menunjukkan bahwa titik data di kedua sisi garis tersebut cukup berbeda sehingga dapat dianggap sebagai cluster yang berbeda\n"
      ],
      "metadata": {
        "id": "Q9uTT9u1OfrF"
      }
    },
    {
      "cell_type": "markdown",
      "source": [
        "Untuk menentukan clusternya, kita buat dulu dendogram dari dataframe PCA yang tadi kita buat, yaitu df_pca. Kita akan menghitung matriks linkage dari data tersebut dengan metode `ward`. Linkage adalah metode yang digunakan untuk menghitung jarak antara cluster saat menggabungkan atau memisahkan cluster, sedangkan ward adalah salah satu metode yang digunakan dalam perhitungan linkage. Pada metode ini, di tiap iterasinya akan dibentuk cluster-cluster yang kemudian dihitung nilai within sum of square tiap cluster (WSS). WSS dapat diartikan sebagai jumlah dari jarak tiap observasi ke nilai tengah cluster. Cluster-cluster yang menghasilkan within sum of square terkecil akan diambil kemudian digabungkan hingga membentuk satu dendrogram utuh. Gunakan dataset hasil PCA\n",
        "\n"
      ],
      "metadata": {
        "id": "u7ZzjRPhOoVD"
      }
    },
    {
      "cell_type": "code",
      "source": [
        "plt.figure(figsize=(16,6))\n",
        "dendrogram = shc.dendrogram(shc.linkage(FIXME, method = FIXME))\n",
        "plt.title('Dendrogram')\n",
        "plt.xlabel('Customers')\n",
        "plt.ylabel('Euclidean distances')\n",
        "plt.show()"
      ],
      "metadata": {
        "id": "H0l562hr-Zoi"
      },
      "execution_count": null,
      "outputs": []
    },
    {
      "cell_type": "markdown",
      "source": [
        "Kita menambahkan garis horizontal yang memotong dendogram untuk melihat berapa jumlah clusternya. Karena garis vertikal di sekitar nilai 150 cukup panjang, dapat disimpulkan bahwa data tersebut sudah cukup berbeda sehingga bisa dianggap cluster terpisah. Oleh karena itu, kita akan memotong dendogram di 150"
      ],
      "metadata": {
        "id": "17QwDuuAO1K7"
      }
    },
    {
      "cell_type": "code",
      "source": [
        "plt.figure(figsize=(16,6))\n",
        "dendrogram = shc.dendrogram(shc.linkage(df_pca, method = 'ward'))\n",
        "plt.axhline(y = FIXME, color = 'black', linestyle = 'dashdot')\n",
        "plt.title('Dendrogram')\n",
        "plt.xlabel('Customers')\n",
        "plt.ylabel('Euclidean distances')\n",
        "plt.show()"
      ],
      "metadata": {
        "id": "_P1YJUXcGKm7"
      },
      "execution_count": null,
      "outputs": []
    },
    {
      "cell_type": "markdown",
      "source": [
        "Setelah dilakukan pemotongan, dapat dilihat jumlah cluster pada grafik di atas, lalu kita akan menggunakan hierarchial clustering jenis agglomerative untuk melakukan clustering. Agglomerative clustering memerlukan 2 input:\n",
        "1. n_clusters: Jumlah cluster yang akan dibentuk\n",
        "2. linkage: metode linkage apa yang akan digunakan\n",
        "\n",
        "Sama seperti saat membuat dendogram, kita akan menggunakan metode ward"
      ],
      "metadata": {
        "id": "Heq1c_1LO6Lq"
      }
    },
    {
      "cell_type": "code",
      "source": [
        "hc_pca = AgglomerativeClustering(n_clusters = FIXME, linkage = FIXME)\n",
        "hc_pca_labels = hc_pca.fit_predict(FIXME)"
      ],
      "metadata": {
        "id": "FJLzyO7I_Jsw"
      },
      "execution_count": null,
      "outputs": []
    },
    {
      "cell_type": "code",
      "source": [
        "#Plot clustering\n",
        "scatter = plt.scatter(x='PC1', y='PC2', c=hc_pca_labels, cmap='rainbow', data=df_pca)\n",
        "#Menambahkan legend\n",
        "plt.legend(handles=scatter.legend_elements()[0], labels=['Cluster 0', 'Cluster 1', 'Cluster 2', 'Cluster 3', 'Cluster 4'])\n",
        "plt.title('Clusters of Customers')\n",
        "plt.xlabel('PC1')\n",
        "plt.ylabel('PC2')\n",
        "plt.show()"
      ],
      "metadata": {
        "id": "4F0qyQFo-7PS"
      },
      "execution_count": null,
      "outputs": []
    },
    {
      "cell_type": "markdown",
      "source": [
        "Menghitung jumlah data di setiap cluster"
      ],
      "metadata": {
        "id": "hlD9u_9CXQbr"
      }
    },
    {
      "cell_type": "code",
      "source": [
        "df_pca_copy = df_pca.copy()\n",
        "df_pca_copy.loc[:, 'Cluster'] = hc_pca_labels\n",
        "pca_sz = df_pca_copy.groupby('Cluster').size().to_frame().rename(columns = {0:'HC_size'})\n",
        "pca_sz"
      ],
      "metadata": {
        "id": "7LIucoBNFoub"
      },
      "execution_count": null,
      "outputs": []
    },
    {
      "cell_type": "markdown",
      "source": [
        "#**Tugas**\n",
        "\n",
        "Dengan dataset yang sama, yaitu\n",
        "[Mall_Customers.csv](https://drive.google.com/file/d/1_UYfw50xFZmiMa8qAePLDbmh4vY_nBln/view?usp=sharing) gunakan 2 algoritma unsupervised learning untuk melakukan clustering dan berikan penjelasan mengenai hasil clusteringnya!"
      ],
      "metadata": {
        "id": "ZHepEPdrZjXl"
      }
    }
  ],
  "metadata": {
    "colab": {
      "provenance": [],
      "include_colab_link": true
    },
    "kernelspec": {
      "display_name": "Python 3",
      "name": "python3"
    },
    "language_info": {
      "name": "python"
    }
  },
  "nbformat": 4,
  "nbformat_minor": 0
}